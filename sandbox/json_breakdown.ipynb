{
 "cells": [
  {
   "cell_type": "code",
   "execution_count": 2,
   "id": "c4434fa8-9ec7-403f-925b-cd21e79fe495",
   "metadata": {},
   "outputs": [],
   "source": [
    "import json\n",
    "from rdkit import Chem\n",
    "from rdkit.Chem import Draw\n",
    "from rdkit.Chem import rdChemReactions as Reactions\n",
    "from pprint import pprint"
   ]
  },
  {
   "cell_type": "code",
   "execution_count": 3,
   "id": "d36ec224-9480-45d1-a37d-d0889882f7aa",
   "metadata": {
    "scrolled": true
   },
   "outputs": [
    {
     "name": "stdout",
     "output_type": "stream",
     "text": [
      "[{'type': 'mol', 'hide': False, 'smiles': 'COc1cccc(OC(=O)/C=C/c2cc(OC)c(OC)c(OC)c2)c1', 'is_chemical': True, 'in_stock': False, 'children': [{'type': 'reaction', 'hide': False, 'smiles': '[C:1](\\\\[cH3:2])=[C:3]/[CH:4]=[O:5]>>O=[C:1][cH3:2].[C:3][CH:4]=[O:5]', 'is_reaction': True, 'metadata': {'template_hash': '9d391d72bde667d0814b2004adf87b3673429821f807044c077deb9caedc6851', 'classification': '0.0 Unrecognized', 'library_occurence': 494, 'policy_probability': 0.002099999925121665, 'policy_probability_rank': 16, 'policy_name': 'uspto', 'template_code': 26192, 'template': '[O;D1;H0:5]=[C:4]/[CH;D2;+0:3]=[CH;D2;+0:1]/[c:2]>>O=[CH;D2;+0:1]-[c:2].[CH3;D1;+0:3]-[C:4]=[O;D1;H0:5]', 'mapped_reaction_smiles': '[CH3:1][O:2][c:3]1[cH:4][cH:5][cH:6][c:7]([O:8][C:9](=[O:10])/[CH:11]=[CH:12]/[c:13]2[cH:14][c:15]([O:16][CH3:17])[c:18]([O:19][CH3:20])[c:21]([O:22][CH3:23])[cH:24]2)[cH:25]1>>[CH3:1][O:2][c:3]1[cH:4][cH:5][cH:6][c:7]([O:8][C:9](=[O:10])[CH3:11])[cH:25]1.[CH:12]([c:13]1[cH:14][c:15]([O:16][CH3:17])[c:18]([O:19][CH3:20])[c:21]([O:22][CH3:23])[cH:24]1)=[O:26]'}, 'children': [{'type': 'mol', 'hide': False, 'smiles': 'COc1cccc(OC(C)=O)c1', 'is_chemical': True, 'in_stock': True}, {'type': 'mol', 'hide': False, 'smiles': 'COc1cc(C=O)cc(OC)c1OC', 'is_chemical': True, 'in_stock': True}]}], 'scores': {'state score': 0.9976287063411217, 'number of reactions': 1, 'number of pre-cursors': 2, 'number of pre-cursors in stock': 2, 'average template occurrence': 494.0}, 'metadata': {'created_at_iteration': 7, 'is_solved': True}}, {'type': 'mol', 'hide': False, 'smiles': 'COc1cccc(OC(=O)/C=C/c2cc(OC)c(OC)c(OC)c2)c1', 'is_chemical': True, 'in_stock': False, 'children': [{'type': 'reaction', 'hide': False, 'smiles': '[C:1](=[O:2])([CH:3]=[CH2:4])[O:5][cH3:6]>>Cl[C:1](=[O:2])[CH:3]=[CH2:4].[O:5][cH3:6]', 'is_reaction': True, 'metadata': {'template_hash': '6d4d3aed2b8891b1229d561be64433277d4427a8e185fa7f98afa45ad47f2020', 'classification': '0.0 Unrecognized', 'library_occurence': 176, 'policy_probability': 0.5120000243186951, 'policy_probability_rank': 0, 'policy_name': 'uspto', 'template_code': 18235, 'template': '[C:4]=[C:3]-[C;H0;D3;+0:1](=[O;D1;H0:2])-[O;H0;D2;+0:5]-[c:6]>>Cl-[C;H0;D3;+0:1](=[O;D1;H0:2])-[C:3]=[C:4].[OH;D1;+0:5]-[c:6]', 'mapped_reaction_smiles': '[CH3:1][O:2][c:3]1[cH:4][cH:5][cH:6][c:7]([O:8][C:9](=[O:10])/[CH:11]=[CH:12]/[c:13]2[cH:14][c:15]([O:16][CH3:17])[c:18]([O:19][CH3:20])[c:21]([O:22][CH3:23])[cH:24]2)[cH:25]1>>[C:9](=[O:10])(/[CH:11]=[CH:12]/[c:13]1[cH:14][c:15]([O:16][CH3:17])[c:18]([O:19][CH3:20])[c:21]([O:22][CH3:23])[cH:24]1)[Cl:26].[CH3:1][O:2][c:3]1[cH:4][cH:5][cH:6][c:7]([OH:8])[cH:25]1'}, 'children': [{'type': 'mol', 'hide': False, 'smiles': 'COc1cccc(O)c1', 'is_chemical': True, 'in_stock': True}, {'type': 'mol', 'hide': False, 'smiles': 'COc1cc(/C=C/C(=O)Cl)cc(OC)c1OC', 'is_chemical': True, 'in_stock': False, 'children': [{'type': 'reaction', 'hide': False, 'smiles': '[Cl:1][C:2](=[O:3])[CH:4]=[CH2:5]>>O=S(Cl)[Cl:1].O[C:2](=[O:3])[CH:4]=[CH2:5]', 'is_reaction': True, 'metadata': {'template_hash': 'fa08064de4f869a84361894cd56ff63696fd5ed483f25607fd999c6254375e66', 'classification': '0.0 Unrecognized', 'library_occurence': 204, 'policy_probability': 0.6988000273704529, 'policy_probability_rank': 0, 'policy_name': 'uspto', 'template_code': 41573, 'template': '[C:5]=[C:4]-[C;H0;D3;+0:2](-[Cl;H0;D1;+0:1])=[O;D1;H0:3]>>Cl-S(=O)-[Cl;H0;D1;+0:1].O-[C;H0;D3;+0:2](=[O;D1;H0:3])-[C:4]=[C:5]', 'mapped_reaction_smiles': '[C:9](=[O:10])(/[CH:11]=[CH:12]/[c:13]1[cH:14][c:15]([O:16][CH3:17])[c:18]([O:19][CH3:20])[c:21]([O:22][CH3:23])[cH:24]1)[Cl:26]>>[C:9](=[O:10])(/[CH:11]=[CH:12]/[c:13]1[cH:14][c:15]([O:16][CH3:17])[c:18]([O:19][CH3:20])[c:21]([O:22][CH3:23])[cH:24]1)[OH:25].[Cl:26][S:27]([Cl:28])=[O:29]'}, 'children': [{'type': 'mol', 'hide': False, 'smiles': 'O=S(Cl)Cl', 'is_chemical': True, 'in_stock': True}, {'type': 'mol', 'hide': False, 'smiles': 'COc1cc(/C=C/C(=O)O)cc(OC)c1OC', 'is_chemical': True, 'in_stock': True}]}]}]}], 'scores': {'state score': 0.994039853898894, 'number of reactions': 2, 'number of pre-cursors': 3, 'number of pre-cursors in stock': 3, 'average template occurrence': 190.0}, 'metadata': {'created_at_iteration': 1, 'is_solved': True}}, {'type': 'mol', 'hide': False, 'smiles': 'COc1cccc(OC(=O)/C=C/c2cc(OC)c(OC)c(OC)c2)c1', 'is_chemical': True, 'in_stock': False, 'children': [{'type': 'reaction', 'hide': False, 'smiles': '[C:1](=[O:2])([CH:3]=[CH2:4])[O:5][cH3:6]>>Cl[C:1](=[O:2])[CH:3]=[CH2:4].[O:5][cH3:6]', 'is_reaction': True, 'metadata': {'template_hash': '6d4d3aed2b8891b1229d561be64433277d4427a8e185fa7f98afa45ad47f2020', 'classification': '0.0 Unrecognized', 'library_occurence': 176, 'policy_probability': 0.5120000243186951, 'policy_probability_rank': 0, 'policy_name': 'uspto', 'template_code': 18235, 'template': '[C:4]=[C:3]-[C;H0;D3;+0:1](=[O;D1;H0:2])-[O;H0;D2;+0:5]-[c:6]>>Cl-[C;H0;D3;+0:1](=[O;D1;H0:2])-[C:3]=[C:4].[OH;D1;+0:5]-[c:6]', 'mapped_reaction_smiles': '[CH3:1][O:2][c:3]1[cH:4][cH:5][cH:6][c:7]([O:8][C:9](=[O:10])/[CH:11]=[CH:12]/[c:13]2[cH:14][c:15]([O:16][CH3:17])[c:18]([O:19][CH3:20])[c:21]([O:22][CH3:23])[cH:24]2)[cH:25]1>>[C:9](=[O:10])(/[CH:11]=[CH:12]/[c:13]1[cH:14][c:15]([O:16][CH3:17])[c:18]([O:19][CH3:20])[c:21]([O:22][CH3:23])[cH:24]1)[Cl:26].[CH3:1][O:2][c:3]1[cH:4][cH:5][cH:6][c:7]([OH:8])[cH:25]1'}, 'children': [{'type': 'mol', 'hide': False, 'smiles': 'COc1cccc(O)c1', 'is_chemical': True, 'in_stock': True}, {'type': 'mol', 'hide': False, 'smiles': 'COc1cc(/C=C/C(=O)Cl)cc(OC)c1OC', 'is_chemical': True, 'in_stock': False, 'children': [{'type': 'reaction', 'hide': False, 'smiles': '[Cl:1][C:2](=[O:3])[CH:4]=[CH2:5]>>O=C(Cl)C(=O)[Cl:1].O[C:2](=[O:3])[CH:4]=[CH2:5]', 'is_reaction': True, 'metadata': {'template_hash': 'd80659e1ed630c945ee5da75f23237e49ed39a14e50b9f2c34b60ccf01c36fd6', 'classification': '0.0 Unrecognized', 'library_occurence': 57, 'policy_probability': 0.1371999979019165, 'policy_probability_rank': 1, 'policy_name': 'uspto', 'template_code': 35940, 'template': '[C:5]=[C:4]-[C;H0;D3;+0:2](-[Cl;H0;D1;+0:1])=[O;D1;H0:3]>>Cl-C(=O)-C(=O)-[Cl;H0;D1;+0:1].O-[C;H0;D3;+0:2](=[O;D1;H0:3])-[C:4]=[C:5]', 'mapped_reaction_smiles': '[C:9](=[O:10])(/[CH:11]=[CH:12]/[c:13]1[cH:14][c:15]([O:16][CH3:17])[c:18]([O:19][CH3:20])[c:21]([O:22][CH3:23])[cH:24]1)[Cl:26]>>[C:9](=[O:10])(/[CH:11]=[CH:12]/[c:13]1[cH:14][c:15]([O:16][CH3:17])[c:18]([O:19][CH3:20])[c:21]([O:22][CH3:23])[cH:24]1)[OH:25].[Cl:26][C:27]([C:28]([Cl:29])=[O:30])=[O:31]'}, 'children': [{'type': 'mol', 'hide': False, 'smiles': 'O=C(Cl)C(=O)Cl', 'is_chemical': True, 'in_stock': True}, {'type': 'mol', 'hide': False, 'smiles': 'COc1cc(/C=C/C(=O)O)cc(OC)c1OC', 'is_chemical': True, 'in_stock': True}]}]}]}], 'scores': {'state score': 0.994039853898894, 'number of reactions': 2, 'number of pre-cursors': 3, 'number of pre-cursors in stock': 3, 'average template occurrence': 116.5}, 'metadata': {'created_at_iteration': 20, 'is_solved': True}}, {'type': 'mol', 'hide': False, 'smiles': 'COc1cccc(OC(=O)/C=C/c2cc(OC)c(OC)c(OC)c2)c1', 'is_chemical': True, 'in_stock': False, 'children': [{'type': 'reaction', 'hide': False, 'smiles': '[C:1][O:2][cH3:3]>>COS(=O)(=O)O[C:1].[O:2][cH3:3]', 'is_reaction': True, 'metadata': {'template_hash': '7572d81cb8fe1802366cd5108e7ad9313d2ce90888f05fbdc714a1b2fc719786', 'classification': '0.0 Unrecognized', 'library_occurence': 511, 'policy_probability': 0.004800000227987766, 'policy_probability_rank': 11, 'policy_name': 'uspto', 'template_code': 19597, 'template': '[CH3;D1;+0:1]-[O;H0;D2;+0:2]-[c:3]>>C-O-S(=O)(=O)-O-[CH3;D1;+0:1].[OH;D1;+0:2]-[c:3]', 'mapped_reaction_smiles': '[CH3:1][O:2][c:3]1[cH:4][cH:5][cH:6][c:7]([O:8][C:9](=[O:10])/[CH:11]=[CH:12]/[c:13]2[cH:14][c:15]([O:16][CH3:17])[c:18]([O:19][CH3:20])[c:21]([O:22][CH3:23])[cH:24]2)[cH:25]1>>[CH3:1][O:2][c:3]1[cH:4][cH:5][cH:6][c:7]([O:8][C:9](=[O:10])/[CH:11]=[CH:12]/[c:13]2[cH:14][c:15]([O:16][CH3:17])[c:18]([OH:19])[c:21]([O:22][CH3:23])[cH:24]2)[cH:25]1.[CH3:20][O:26][S:27]([O:28][CH3:29])(=[O:30])=[O:31]'}, 'children': [{'type': 'mol', 'hide': False, 'smiles': 'COS(=O)(=O)OC', 'is_chemical': True, 'in_stock': True}, {'type': 'mol', 'hide': False, 'smiles': 'COc1cccc(OC(=O)/C=C/c2cc(OC)c(O)c(OC)c2)c1', 'is_chemical': True, 'in_stock': False, 'children': [{'type': 'reaction', 'hide': False, 'smiles': '[c:1]([cH2:2])([cH2:3])[O:6][CH:5]=[O:4]>>O[c:1]([cH2:2])[cH2:3].[O:4]=[CH:5][O:6]', 'is_reaction': True, 'metadata': {'template_hash': '4af293754194d4293822dac15dffac886aafe5cce7291212bae7605614f9968a', 'classification': '0.0 Unrecognized', 'library_occurence': 737, 'policy_probability': 0.03799999877810478, 'policy_probability_rank': 3, 'policy_name': 'uspto', 'template_code': 12567, 'template': '[O;D1;H0:4]=[C:5]-[O;H0;D2;+0:6]-[c;H0;D3;+0:1](:[c:2]):[c:3]>>O-[c;H0;D3;+0:1](:[c:2]):[c:3].[O;D1;H0:4]=[C:5]-[OH;D1;+0:6]', 'mapped_reaction_smiles': '[CH3:1][O:2][c:3]1[cH:4][cH:5][cH:6][c:7]([O:8][C:9](=[O:10])/[CH:11]=[CH:12]/[c:13]2[cH:14][c:15]([O:16][CH3:17])[c:18]([OH:19])[c:21]([O:22][CH3:23])[cH:24]2)[cH:25]1>>[CH3:1][O:2][c:3]1[cH:4][cH:5][cH:6][c:7]([OH:26])[cH:25]1.[OH:8][C:9](=[O:10])/[CH:11]=[CH:12]/[c:13]1[cH:14][c:15]([O:16][CH3:17])[c:18]([OH:19])[c:21]([O:22][CH3:23])[cH:24]1'}, 'children': [{'type': 'mol', 'hide': False, 'smiles': 'COc1cccc(O)c1', 'is_chemical': True, 'in_stock': True}, {'type': 'mol', 'hide': False, 'smiles': 'COc1cc(/C=C/C(=O)O)cc(OC)c1O', 'is_chemical': True, 'in_stock': True}]}]}]}], 'scores': {'state score': 0.994039853898894, 'number of reactions': 2, 'number of pre-cursors': 3, 'number of pre-cursors in stock': 3, 'average template occurrence': 624.0}, 'metadata': {'created_at_iteration': 24, 'is_solved': True}}, {'type': 'mol', 'hide': False, 'smiles': 'COc1cccc(OC(=O)/C=C/c2cc(OC)c(OC)c(OC)c2)c1', 'is_chemical': True, 'in_stock': False, 'children': [{'type': 'reaction', 'hide': False, 'smiles': '[C:1][O:2][cH3:3]>>COS(=O)(=O)O[C:1].[O:2][cH3:3]', 'is_reaction': True, 'metadata': {'template_hash': '7572d81cb8fe1802366cd5108e7ad9313d2ce90888f05fbdc714a1b2fc719786', 'classification': '0.0 Unrecognized', 'library_occurence': 511, 'policy_probability': 0.004800000227987766, 'policy_probability_rank': 11, 'policy_name': 'uspto', 'template_code': 19597, 'template': '[CH3;D1;+0:1]-[O;H0;D2;+0:2]-[c:3]>>C-O-S(=O)(=O)-O-[CH3;D1;+0:1].[OH;D1;+0:2]-[c:3]', 'mapped_reaction_smiles': '[CH3:1][O:2][c:3]1[cH:4][cH:5][cH:6][c:7]([O:8][C:9](=[O:10])/[CH:11]=[CH:12]/[c:13]2[cH:14][c:15]([O:16][CH3:17])[c:18]([O:19][CH3:20])[c:21]([O:22][CH3:23])[cH:24]2)[cH:25]1>>[CH3:1][O:26][S:27]([O:28][CH3:29])(=[O:30])=[O:31].[OH:2][c:3]1[cH:4][cH:5][cH:6][c:7]([O:8][C:9](=[O:10])/[CH:11]=[CH:12]/[c:13]2[cH:14][c:15]([O:16][CH3:17])[c:18]([O:19][CH3:20])[c:21]([O:22][CH3:23])[cH:24]2)[cH:25]1'}, 'children': [{'type': 'mol', 'hide': False, 'smiles': 'COS(=O)(=O)OC', 'is_chemical': True, 'in_stock': True}, {'type': 'mol', 'hide': False, 'smiles': 'COc1cc(/C=C/C(=O)Oc2cccc(O)c2)cc(OC)c1OC', 'is_chemical': True, 'in_stock': False, 'children': [{'type': 'reaction', 'hide': False, 'smiles': '[c:1]([cH2:2])([cH2:3])[O:6][CH:5]=[O:4]>>O[c:1]([cH2:2])[cH2:3].[O:4]=[CH:5][O:6]', 'is_reaction': True, 'metadata': {'template_hash': '4af293754194d4293822dac15dffac886aafe5cce7291212bae7605614f9968a', 'classification': '0.0 Unrecognized', 'library_occurence': 737, 'policy_probability': 0.2599000036716461, 'policy_probability_rank': 0, 'policy_name': 'uspto', 'template_code': 12567, 'template': '[O;D1;H0:4]=[C:5]-[O;H0;D2;+0:6]-[c;H0;D3;+0:1](:[c:2]):[c:3]>>O-[c;H0;D3;+0:1](:[c:2]):[c:3].[O;D1;H0:4]=[C:5]-[OH;D1;+0:6]', 'mapped_reaction_smiles': '[OH:2][c:3]1[cH:4][cH:5][cH:6][c:7]([O:8][C:9](=[O:10])/[CH:11]=[CH:12]/[c:13]2[cH:14][c:15]([O:16][CH3:17])[c:18]([O:19][CH3:20])[c:21]([O:22][CH3:23])[cH:24]2)[cH:25]1>>[OH:2][c:3]1[cH:4][cH:5][cH:6][c:7]([OH:26])[cH:25]1.[OH:8][C:9](=[O:10])/[CH:11]=[CH:12]/[c:13]1[cH:14][c:15]([O:16][CH3:17])[c:18]([O:19][CH3:20])[c:21]([O:22][CH3:23])[cH:24]1'}, 'children': [{'type': 'mol', 'hide': False, 'smiles': 'Oc1cccc(O)c1', 'is_chemical': True, 'in_stock': True}, {'type': 'mol', 'hide': False, 'smiles': 'COc1cc(/C=C/C(=O)O)cc(OC)c1OC', 'is_chemical': True, 'in_stock': True}]}]}]}], 'scores': {'state score': 0.994039853898894, 'number of reactions': 2, 'number of pre-cursors': 3, 'number of pre-cursors in stock': 3, 'average template occurrence': 624.0}, 'metadata': {'created_at_iteration': 5, 'is_solved': True}}]\n"
     ]
    }
   ],
   "source": [
    "with open('trees.json') as json_file:\n",
    "    data = json.load(json_file)\n",
    "    print(data)"
   ]
  },
  {
   "cell_type": "code",
   "execution_count": 4,
   "id": "4633d9db-00e3-4561-b55f-a4110a3ff20f",
   "metadata": {
    "scrolled": true
   },
   "outputs": [
    {
     "name": "stdout",
     "output_type": "stream",
     "text": [
      "type, mol\n",
      "\n",
      "hide, False\n",
      "\n",
      "smiles, COc1cccc(OC(=O)/C=C/c2cc(OC)c(OC)c(OC)c2)c1\n",
      "\n",
      "is_chemical, True\n",
      "\n",
      "in_stock, False\n",
      "\n",
      "children <start>\n",
      "\n",
      "type: reaction\n",
      "\n",
      "hide: False\n",
      "\n",
      "smiles: [C:1](\\[cH3:2])=[C:3]/[CH:4]=[O:5]>>O=[C:1][cH3:2].[C:3][CH:4]=[O:5]\n",
      "\n",
      "is_reaction: True\n",
      "\n",
      "metadata: {'template_hash': '9d391d72bde667d0814b2004adf87b3673429821f807044c077deb9caedc6851', 'classification': '0.0 Unrecognized', 'library_occurence': 494, 'policy_probability': 0.002099999925121665, 'policy_probability_rank': 16, 'policy_name': 'uspto', 'template_code': 26192, 'template': '[O;D1;H0:5]=[C:4]/[CH;D2;+0:3]=[CH;D2;+0:1]/[c:2]>>O=[CH;D2;+0:1]-[c:2].[CH3;D1;+0:3]-[C:4]=[O;D1;H0:5]', 'mapped_reaction_smiles': '[CH3:1][O:2][c:3]1[cH:4][cH:5][cH:6][c:7]([O:8][C:9](=[O:10])/[CH:11]=[CH:12]/[c:13]2[cH:14][c:15]([O:16][CH3:17])[c:18]([O:19][CH3:20])[c:21]([O:22][CH3:23])[cH:24]2)[cH:25]1>>[CH3:1][O:2][c:3]1[cH:4][cH:5][cH:6][c:7]([O:8][C:9](=[O:10])[CH3:11])[cH:25]1.[CH:12]([c:13]1[cH:14][c:15]([O:16][CH3:17])[c:18]([O:19][CH3:20])[c:21]([O:22][CH3:23])[cH:24]1)=[O:26]'}\n",
      "\n",
      "children: [{'type': 'mol', 'hide': False, 'smiles': 'COc1cccc(OC(C)=O)c1', 'is_chemical': True, 'in_stock': True}, {'type': 'mol', 'hide': False, 'smiles': 'COc1cc(C=O)cc(OC)c1OC', 'is_chemical': True, 'in_stock': True}]\n",
      "\n",
      "children <end>\n",
      "\n",
      "scores, {'state score': 0.9976287063411217, 'number of reactions': 1, 'number of pre-cursors': 2, 'number of pre-cursors in stock': 2, 'average template occurrence': 494.0}\n",
      "\n",
      "metadata, {'created_at_iteration': 7, 'is_solved': True}\n",
      "\n",
      "type, mol\n",
      "\n",
      "hide, False\n",
      "\n",
      "smiles, COc1cccc(OC(=O)/C=C/c2cc(OC)c(OC)c(OC)c2)c1\n",
      "\n",
      "is_chemical, True\n",
      "\n",
      "in_stock, False\n",
      "\n",
      "children <start>\n",
      "\n",
      "type: reaction\n",
      "\n",
      "hide: False\n",
      "\n",
      "smiles: [C:1](\\[cH3:2])=[C:3]/[CH:4]=[O:5]>>O=[C:1][cH3:2].[C:3][CH:4]=[O:5]\n",
      "\n",
      "is_reaction: True\n",
      "\n",
      "metadata: {'template_hash': '9d391d72bde667d0814b2004adf87b3673429821f807044c077deb9caedc6851', 'classification': '0.0 Unrecognized', 'library_occurence': 494, 'policy_probability': 0.002099999925121665, 'policy_probability_rank': 16, 'policy_name': 'uspto', 'template_code': 26192, 'template': '[O;D1;H0:5]=[C:4]/[CH;D2;+0:3]=[CH;D2;+0:1]/[c:2]>>O=[CH;D2;+0:1]-[c:2].[CH3;D1;+0:3]-[C:4]=[O;D1;H0:5]', 'mapped_reaction_smiles': '[CH3:1][O:2][c:3]1[cH:4][cH:5][cH:6][c:7]([O:8][C:9](=[O:10])/[CH:11]=[CH:12]/[c:13]2[cH:14][c:15]([O:16][CH3:17])[c:18]([O:19][CH3:20])[c:21]([O:22][CH3:23])[cH:24]2)[cH:25]1>>[CH3:1][O:2][c:3]1[cH:4][cH:5][cH:6][c:7]([O:8][C:9](=[O:10])[CH3:11])[cH:25]1.[CH:12]([c:13]1[cH:14][c:15]([O:16][CH3:17])[c:18]([O:19][CH3:20])[c:21]([O:22][CH3:23])[cH:24]1)=[O:26]'}\n",
      "\n",
      "children: [{'type': 'mol', 'hide': False, 'smiles': 'COc1cccc(OC(C)=O)c1', 'is_chemical': True, 'in_stock': True}, {'type': 'mol', 'hide': False, 'smiles': 'COc1cc(C=O)cc(OC)c1OC', 'is_chemical': True, 'in_stock': True}]\n",
      "\n",
      "children <end>\n",
      "\n",
      "scores, {'state score': 0.994039853898894, 'number of reactions': 2, 'number of pre-cursors': 3, 'number of pre-cursors in stock': 3, 'average template occurrence': 190.0}\n",
      "\n",
      "metadata, {'created_at_iteration': 1, 'is_solved': True}\n",
      "\n",
      "type, mol\n",
      "\n",
      "hide, False\n",
      "\n",
      "smiles, COc1cccc(OC(=O)/C=C/c2cc(OC)c(OC)c(OC)c2)c1\n",
      "\n",
      "is_chemical, True\n",
      "\n",
      "in_stock, False\n",
      "\n",
      "children <start>\n",
      "\n",
      "type: reaction\n",
      "\n",
      "hide: False\n",
      "\n",
      "smiles: [C:1](\\[cH3:2])=[C:3]/[CH:4]=[O:5]>>O=[C:1][cH3:2].[C:3][CH:4]=[O:5]\n",
      "\n",
      "is_reaction: True\n",
      "\n",
      "metadata: {'template_hash': '9d391d72bde667d0814b2004adf87b3673429821f807044c077deb9caedc6851', 'classification': '0.0 Unrecognized', 'library_occurence': 494, 'policy_probability': 0.002099999925121665, 'policy_probability_rank': 16, 'policy_name': 'uspto', 'template_code': 26192, 'template': '[O;D1;H0:5]=[C:4]/[CH;D2;+0:3]=[CH;D2;+0:1]/[c:2]>>O=[CH;D2;+0:1]-[c:2].[CH3;D1;+0:3]-[C:4]=[O;D1;H0:5]', 'mapped_reaction_smiles': '[CH3:1][O:2][c:3]1[cH:4][cH:5][cH:6][c:7]([O:8][C:9](=[O:10])/[CH:11]=[CH:12]/[c:13]2[cH:14][c:15]([O:16][CH3:17])[c:18]([O:19][CH3:20])[c:21]([O:22][CH3:23])[cH:24]2)[cH:25]1>>[CH3:1][O:2][c:3]1[cH:4][cH:5][cH:6][c:7]([O:8][C:9](=[O:10])[CH3:11])[cH:25]1.[CH:12]([c:13]1[cH:14][c:15]([O:16][CH3:17])[c:18]([O:19][CH3:20])[c:21]([O:22][CH3:23])[cH:24]1)=[O:26]'}\n",
      "\n",
      "children: [{'type': 'mol', 'hide': False, 'smiles': 'COc1cccc(OC(C)=O)c1', 'is_chemical': True, 'in_stock': True}, {'type': 'mol', 'hide': False, 'smiles': 'COc1cc(C=O)cc(OC)c1OC', 'is_chemical': True, 'in_stock': True}]\n",
      "\n",
      "children <end>\n",
      "\n",
      "scores, {'state score': 0.994039853898894, 'number of reactions': 2, 'number of pre-cursors': 3, 'number of pre-cursors in stock': 3, 'average template occurrence': 116.5}\n",
      "\n",
      "metadata, {'created_at_iteration': 20, 'is_solved': True}\n",
      "\n",
      "type, mol\n",
      "\n",
      "hide, False\n",
      "\n",
      "smiles, COc1cccc(OC(=O)/C=C/c2cc(OC)c(OC)c(OC)c2)c1\n",
      "\n",
      "is_chemical, True\n",
      "\n",
      "in_stock, False\n",
      "\n",
      "children <start>\n",
      "\n",
      "type: reaction\n",
      "\n",
      "hide: False\n",
      "\n",
      "smiles: [C:1](\\[cH3:2])=[C:3]/[CH:4]=[O:5]>>O=[C:1][cH3:2].[C:3][CH:4]=[O:5]\n",
      "\n",
      "is_reaction: True\n",
      "\n",
      "metadata: {'template_hash': '9d391d72bde667d0814b2004adf87b3673429821f807044c077deb9caedc6851', 'classification': '0.0 Unrecognized', 'library_occurence': 494, 'policy_probability': 0.002099999925121665, 'policy_probability_rank': 16, 'policy_name': 'uspto', 'template_code': 26192, 'template': '[O;D1;H0:5]=[C:4]/[CH;D2;+0:3]=[CH;D2;+0:1]/[c:2]>>O=[CH;D2;+0:1]-[c:2].[CH3;D1;+0:3]-[C:4]=[O;D1;H0:5]', 'mapped_reaction_smiles': '[CH3:1][O:2][c:3]1[cH:4][cH:5][cH:6][c:7]([O:8][C:9](=[O:10])/[CH:11]=[CH:12]/[c:13]2[cH:14][c:15]([O:16][CH3:17])[c:18]([O:19][CH3:20])[c:21]([O:22][CH3:23])[cH:24]2)[cH:25]1>>[CH3:1][O:2][c:3]1[cH:4][cH:5][cH:6][c:7]([O:8][C:9](=[O:10])[CH3:11])[cH:25]1.[CH:12]([c:13]1[cH:14][c:15]([O:16][CH3:17])[c:18]([O:19][CH3:20])[c:21]([O:22][CH3:23])[cH:24]1)=[O:26]'}\n",
      "\n",
      "children: [{'type': 'mol', 'hide': False, 'smiles': 'COc1cccc(OC(C)=O)c1', 'is_chemical': True, 'in_stock': True}, {'type': 'mol', 'hide': False, 'smiles': 'COc1cc(C=O)cc(OC)c1OC', 'is_chemical': True, 'in_stock': True}]\n",
      "\n",
      "children <end>\n",
      "\n",
      "scores, {'state score': 0.994039853898894, 'number of reactions': 2, 'number of pre-cursors': 3, 'number of pre-cursors in stock': 3, 'average template occurrence': 624.0}\n",
      "\n",
      "metadata, {'created_at_iteration': 24, 'is_solved': True}\n",
      "\n",
      "type, mol\n",
      "\n",
      "hide, False\n",
      "\n",
      "smiles, COc1cccc(OC(=O)/C=C/c2cc(OC)c(OC)c(OC)c2)c1\n",
      "\n",
      "is_chemical, True\n",
      "\n",
      "in_stock, False\n",
      "\n",
      "children <start>\n",
      "\n",
      "type: reaction\n",
      "\n",
      "hide: False\n",
      "\n",
      "smiles: [C:1](\\[cH3:2])=[C:3]/[CH:4]=[O:5]>>O=[C:1][cH3:2].[C:3][CH:4]=[O:5]\n",
      "\n",
      "is_reaction: True\n",
      "\n",
      "metadata: {'template_hash': '9d391d72bde667d0814b2004adf87b3673429821f807044c077deb9caedc6851', 'classification': '0.0 Unrecognized', 'library_occurence': 494, 'policy_probability': 0.002099999925121665, 'policy_probability_rank': 16, 'policy_name': 'uspto', 'template_code': 26192, 'template': '[O;D1;H0:5]=[C:4]/[CH;D2;+0:3]=[CH;D2;+0:1]/[c:2]>>O=[CH;D2;+0:1]-[c:2].[CH3;D1;+0:3]-[C:4]=[O;D1;H0:5]', 'mapped_reaction_smiles': '[CH3:1][O:2][c:3]1[cH:4][cH:5][cH:6][c:7]([O:8][C:9](=[O:10])/[CH:11]=[CH:12]/[c:13]2[cH:14][c:15]([O:16][CH3:17])[c:18]([O:19][CH3:20])[c:21]([O:22][CH3:23])[cH:24]2)[cH:25]1>>[CH3:1][O:2][c:3]1[cH:4][cH:5][cH:6][c:7]([O:8][C:9](=[O:10])[CH3:11])[cH:25]1.[CH:12]([c:13]1[cH:14][c:15]([O:16][CH3:17])[c:18]([O:19][CH3:20])[c:21]([O:22][CH3:23])[cH:24]1)=[O:26]'}\n",
      "\n",
      "children: [{'type': 'mol', 'hide': False, 'smiles': 'COc1cccc(OC(C)=O)c1', 'is_chemical': True, 'in_stock': True}, {'type': 'mol', 'hide': False, 'smiles': 'COc1cc(C=O)cc(OC)c1OC', 'is_chemical': True, 'in_stock': True}]\n",
      "\n",
      "children <end>\n",
      "\n",
      "scores, {'state score': 0.994039853898894, 'number of reactions': 2, 'number of pre-cursors': 3, 'number of pre-cursors in stock': 3, 'average template occurrence': 624.0}\n",
      "\n",
      "metadata, {'created_at_iteration': 5, 'is_solved': True}\n",
      "\n"
     ]
    }
   ],
   "source": [
    "for i in range(len(data)):\n",
    "    for key, value in data[i].items():\n",
    "        if key != 'children':\n",
    "            print(f'{key}, {value}\\n')\n",
    "        else:\n",
    "            print('children <start>\\n')\n",
    "            for child in data[0]['children']:\n",
    "                for key, value in child.items():\n",
    "                    print(f'{key}: {value}\\n')\n",
    "            print('children <end>\\n')"
   ]
  },
  {
   "cell_type": "code",
   "execution_count": 9,
   "id": "591828f6-d436-47d1-8042-06edfc46972d",
   "metadata": {},
   "outputs": [
    {
     "name": "stdout",
     "output_type": "stream",
     "text": [
      "{'smiles': 'COc1cccc(OC(=O)/C=C/c2cc(OC)c(OC)c(OC)c2)c1', 'in_stock': False, 'reaction_smiles': '[C:1](\\\\[cH3:2])=[C:3]/[CH:4]=[O:5]>>O=[C:1][cH3:2].[C:3][CH:4]=[O:5]', 'score': 0.9976287063411217, 'precursors': ['COc1cccc(OC(C)=O)c1', 'COc1cc(C=O)cc(OC)c1OC'], 'number of pre-cursors in stock': 2}\n",
      "\n",
      "{'smiles': 'COc1cccc(OC(=O)/C=C/c2cc(OC)c(OC)c(OC)c2)c1', 'in_stock': False, 'reaction_smiles': '[C:1](=[O:2])([CH:3]=[CH2:4])[O:5][cH3:6]>>Cl[C:1](=[O:2])[CH:3]=[CH2:4].[O:5][cH3:6]', 'score': 0.994039853898894, 'precursors': ['COc1cccc(O)c1', 'COc1cc(/C=C/C(=O)Cl)cc(OC)c1OC'], 'number of pre-cursors in stock': 3}\n",
      "\n",
      "{'smiles': 'COc1cccc(OC(=O)/C=C/c2cc(OC)c(OC)c(OC)c2)c1', 'in_stock': False, 'reaction_smiles': '[C:1][O:2][cH3:3]>>COS(=O)(=O)O[C:1].[O:2][cH3:3]', 'score': 0.994039853898894, 'precursors': ['COS(=O)(=O)OC', 'COc1cccc(OC(=O)/C=C/c2cc(OC)c(O)c(OC)c2)c1'], 'number of pre-cursors in stock': 3}\n",
      "\n",
      "{'smiles': 'COc1cccc(OC(=O)/C=C/c2cc(OC)c(OC)c(OC)c2)c1', 'in_stock': False, 'reaction_smiles': '[C:1][O:2][cH3:3]>>COS(=O)(=O)O[C:1].[O:2][cH3:3]', 'score': 0.994039853898894, 'precursors': ['COS(=O)(=O)OC', 'COc1cc(/C=C/C(=O)Oc2cccc(O)c2)cc(OC)c1OC'], 'number of pre-cursors in stock': 3}\n"
     ]
    }
   ],
   "source": [
    "all_results = []\n",
    "for i in range(len(data[:])):\n",
    "    info_applicable_to_chemists = {\n",
    "        'smiles': '',\n",
    "        'in_stock': '',\n",
    "        'reaction_smiles': '',\n",
    "        'score': '',\n",
    "        'precursors': [],\n",
    "        'number of pre-cursors in stock': ''\n",
    "    }\n",
    "\n",
    "    target_smiles = data[i]['smiles']\n",
    "    info_applicable_to_chemists['smiles'] = target_smiles\n",
    "    \n",
    "    target_in_stock = data[i]['in_stock']\n",
    "    info_applicable_to_chemists['in_stock'] = target_in_stock\n",
    "\n",
    "    rxn_smiles = data[i]['children'][0]['smiles']\n",
    "    info_applicable_to_chemists['reaction_smiles'] = rxn_smiles\n",
    "    \n",
    "    reaction_score = data[i]['scores']['state score']\n",
    "    info_applicable_to_chemists['score'] = reaction_score\n",
    "    \n",
    "    precursors_in_stock = data[i]['scores']['number of pre-cursors in stock']\n",
    "    info_applicable_to_chemists['number of pre-cursors in stock'] = precursors_in_stock\n",
    "\n",
    "    precursor_info = data[i]['children'][0]['children']\n",
    "    for info in precursor_info:\n",
    "        info_applicable_to_chemists['precursors'].append(info['smiles'])\n",
    "\n",
    "    if info_applicable_to_chemists not in all_results:\n",
    "        all_results.append(info_applicable_to_chemists)\n",
    "\n",
    "print(*all_results, sep='\\n\\n')"
   ]
  },
  {
   "cell_type": "code",
   "execution_count": 102,
   "id": "b761d530-681a-4907-b1d5-3a56153b9cdb",
   "metadata": {
    "execution": {
     "iopub.execute_input": "2024-07-17T07:45:58.836050Z",
     "iopub.status.busy": "2024-07-17T07:45:58.835003Z",
     "iopub.status.idle": "2024-07-17T07:45:58.881931Z",
     "shell.execute_reply": "2024-07-17T07:45:58.881444Z",
     "shell.execute_reply.started": "2024-07-17T07:45:58.835979Z"
    }
   },
   "outputs": [
    {
     "data": {
      "image/png": "[encoded data removed]",
      "text/plain": [
       "<PIL.PngImagePlugin.PngImageFile image mode=RGB size=800x200>"
      ]
     },
     "execution_count": 102,
     "metadata": {},
     "output_type": "execute_result"
    }
   ],
   "source": [
    "rxn = Reactions.ReactionFromSmarts('[C:1](\\\\[cH3:2])=[C:3]/[CH:4]=[O:5]>>O=[C:1][cH3:2].[C:3][CH:4]=[O:5]', useSmiles=True)\n",
    "Draw.ReactionToImage(rxn)"
   ]
  },
  {
   "cell_type": "code",
   "execution_count": null,
   "id": "56fe4a53-b187-4a92-9d2c-130b96fff2dd",
   "metadata": {},
   "outputs": [],
   "source": []
  }
 ],
 "metadata": {
  "kernelspec": {
   "display_name": "Python 3 (ipykernel)",
   "language": "python",
   "name": "python3"
  },
  "language_info": {
   "codemirror_mode": {
    "name": "ipython",
    "version": 3
   },
   "file_extension": ".py",
   "mimetype": "text/x-python",
   "name": "python",
   "nbconvert_exporter": "python",
   "pygments_lexer": "ipython3",
   "version": "3.10.9"
  }
 },
 "nbformat": 4,
 "nbformat_minor": 5
}
